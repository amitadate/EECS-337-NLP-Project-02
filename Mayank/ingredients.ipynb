{
 "cells": [
  {
   "cell_type": "code",
   "execution_count": 110,
   "metadata": {},
   "outputs": [],
   "source": [
    "from lxml import html\n",
    "import requests\n",
    "\n",
    "def getScrapedData(url):\n",
    "    tree = html.fromstring(requests.get(url).content)\n",
    "    recepie_all_data = {}\n",
    "    nutrition = {}\n",
    "    recepie_all_data[\"nutrition\"] = nutrition\n",
    "    recepie_all_data[\"directions\"] = tree.xpath('//span[@class=\"recipe-directions__list--item\"]/text()')\n",
    "    recepie_all_data[\"ingredients\"] = tree.xpath('//span[@class=\"recipe-ingred_txt added\"]/text()')\n",
    "    recepie_all_data[\"nutrition\"][\"fatContent\"] = tree.xpath('//span[@itemprop=\"fatContent\"]/text()')\n",
    "    recepie_all_data[\"nutrition\"][\"carbohydrateContent\"] = tree.xpath('//span[@itemprop=\"carbohydrateContent\"]/text()')\n",
    "    recepie_all_data[\"nutrition\"][\"calories\"] = tree.xpath('//span[@itemprop=\"calories\"]/text()')\n",
    "    recepie_all_data[\"nutrition\"][\"proteinContent\"] = tree.xpath('//span[@itemprop=\"proteinContent\"]/text()')\n",
    "    recepie_all_data[\"nutrition\"][\"cholesterolContent\"] = tree.xpath('//span[@itemprop=\"cholesterolContent\"]/text()')\n",
    "    recepie_all_data[\"nutrition\"][\"sodiumContent\"] = tree.xpath('//span[@itemprop=\"sodiumContent\"]/text()')\n",
    "    return recepie_all_data\n"
   ]
  },
  {
   "cell_type": "code",
   "execution_count": 123,
   "metadata": {},
   "outputs": [],
   "source": [
    "temp = getScrapedData(\"https://www.allrecipes.com/recipe/73634/colleens-slow-cooker-jambalaya/?internalSource=streams&referringId=192&referringContentType=Recipe%20Hub&clickId=st_recipes_mades\")\n",
    "#https://www.allrecipes.com/recipe/73634/colleens-slow-cooker-jambalaya/?internalSource=streams&referringId=192&referringContentType=Recipe%20Hub&clickId=st_recipes_mades\n"
   ]
  },
  {
   "cell_type": "code",
   "execution_count": 125,
   "metadata": {},
   "outputs": [],
   "source": [
    "units = ['centimeter', 'centimeters', 'centimetre', 'centimetres', 'cup', 'cups', 'fl oz', 'fluid ounce', 'fluid oz', 'g', 'gallon', 'gallons', 'gram', 'inch', 'inches', 'kg', 'kilogram', 'kilograms', 'liter', 'litre', 'mg', 'milligram', 'milliliter', 'millilitre', 'millimeter', 'millimeters', 'millimetre', 'millimetres', 'ounce', 'ounces', 'oz', 'pint', 'pints', 'pound', 'pounds', 'quart', 'quarts', 'tablespoon', 'tablespoons', 'tbsp', 'teaspoon', 'teaspoons', 'tsp']\n",
    "#methods = ['baked', 'barbecue', 'barbeque', 'batter', 'beat', 'black', 'blend', 'boil', 'boneless', 'braise', 'brew', 'broil', 'brown', 'burn', 'caramelize', 'chill', 'chop', 'coat', 'combine', 'cook', 'cool', 'crack', 'crumple', 'crush', 'cured', 'cut', 'debone', 'deep fry', 'deglaze', 'dice', 'drain', 'dress', 'dried', 'drizzle', 'ferment', 'fillet', 'filter', 'flambe', 'flip', 'fold', 'freeze', 'fry', 'garnish', 'glaze', 'grate', 'grease', 'grill', 'grind', 'ground', 'hash', 'heat', 'hull', 'ice', 'infuse', 'knead', 'lay', 'level', 'marinate', 'mash', 'melt', 'mince', 'mix', 'peel', 'pickle', 'poach', 'pour', 'precook', 'preheat', 'prepared', 'rinse', 'roast', 'salt', 'sauté', 'scramble', 'scrub', 'sear', 'season', 'shake', 'sieve', 'sift', 'simmer', 'skim', 'skin', 'slice', 'soak', 'spice', 'sprinkle', 'squeeze', 'stir', 'thicken', 'thin', 'toss', 'turn', 'wash', 'whisk', 'wrap']\n",
    "\n"
   ]
  },
  {
   "cell_type": "code",
   "execution_count": 132,
   "metadata": {},
   "outputs": [],
   "source": [
    "def get_descriptor(filename):\n",
    "    des=[]\n",
    "    with open(filename) as f:\n",
    "        for line in f:\n",
    "            val = line.rstrip('\\n')\n",
    "            val = val.lower()\n",
    "            des.append(val)\n",
    "    return des\n",
    "\n",
    "def is_number(item):\n",
    "    try:\n",
    "        float(item)\n",
    "    except ValueError:\n",
    "        return False\n",
    "    return True\n",
    "\n",
    "def is_fraction(s):\n",
    "    values = s.split('/')\n",
    "    return len(values) == 2 and all(i.isdigit() for i in values)\n",
    "\n",
    "def ingredients(ingredient_raw_dict):\n",
    "    descriptor = get_descriptor(\"descriptor.txt\")\n",
    "    ingredients ={}\n",
    "    ingredient_list_raw = ingredient_raw_dict['ingredients']\n",
    "    num_of_ingredients = len(ingredient_list_raw)\n",
    "    count=1\n",
    "    for string in ingredient_list_raw:\n",
    "        for word in string.split():\n",
    "            word = word.replace('(', '')\n",
    "            word = word.replace(')', '')\n",
    "            word = word.replace(',', '')\n",
    "            word = word.lower()\n",
    "            if is_number(word) or is_fraction(word):\n",
    "                if ('quantity' + str(count)) in ingredients:\n",
    "                    ingredients['quantity'+ str(count)] = ingredients['quantity'+ str(count)] + ' ' + word\n",
    "                else:\n",
    "                    ingredients['quantity'+ str(count)] =  word\n",
    "            elif word in units:\n",
    "                ingredients['measurement'+ str(count)] = word\n",
    "                \n",
    "            elif word in descriptor:\n",
    "                if ('descriptor' + str(count)) in ingredients:\n",
    "                    ingredients['descriptor'+ str(count)] = ingredients['descriptor'+ str(count)] + ' ' + word\n",
    "                else:\n",
    "                    ingredients['descriptor'+ str(count)] =  word\n",
    "            else: \n",
    "                if ('name' + str(count)) in ingredients:\n",
    "                    ingredients['name' + str(count)] = ingredients['name' + str(count)] +' ' + word\n",
    "                else:\n",
    "                    ingredients['name' + str(count)] =word\n",
    "        count+=1\n",
    "    return ingredients\n",
    "\n",
    "\n"
   ]
  },
  {
   "cell_type": "code",
   "execution_count": 134,
   "metadata": {},
   "outputs": [],
   "source": [
    "dict1 = ingredients(temp)\n"
   ]
  },
  {
   "cell_type": "code",
   "execution_count": 135,
   "metadata": {},
   "outputs": [
    {
     "data": {
      "text/plain": [
       "{'quantity1': '1 1',\n",
       " 'measurement1': 'inch',\n",
       " 'name1': 'skinless boneless chicken breast halves - cut into cubes',\n",
       " 'quantity2': '1',\n",
       " 'measurement2': 'pound',\n",
       " 'name2': 'andouille sausage',\n",
       " 'descriptor2': 'sliced',\n",
       " 'quantity3': '1 28',\n",
       " 'measurement3': 'ounce',\n",
       " 'name3': 'can diced tomatoes with juice',\n",
       " 'quantity4': '1',\n",
       " 'name4': 'large onion',\n",
       " 'descriptor4': 'chopped',\n",
       " 'quantity5': '1',\n",
       " 'name5': 'large green bell pepper',\n",
       " 'descriptor5': 'chopped',\n",
       " 'quantity6': '1',\n",
       " 'measurement6': 'cup',\n",
       " 'descriptor6': 'chopped',\n",
       " 'name6': 'celery',\n",
       " 'quantity7': '1',\n",
       " 'measurement7': 'cup',\n",
       " 'name7': 'chicken broth',\n",
       " 'quantity8': '2',\n",
       " 'measurement8': 'teaspoons',\n",
       " 'descriptor8': 'dried',\n",
       " 'name8': 'oregano',\n",
       " 'quantity9': '2',\n",
       " 'measurement9': 'teaspoons',\n",
       " 'descriptor9': 'dried',\n",
       " 'name9': 'parsley',\n",
       " 'quantity10': '2',\n",
       " 'measurement10': 'teaspoons',\n",
       " 'name10': 'cajun seasoning',\n",
       " 'quantity11': '1',\n",
       " 'measurement11': 'teaspoon',\n",
       " 'name11': 'cayenne pepper',\n",
       " 'quantity12': '1/2',\n",
       " 'measurement12': 'teaspoon',\n",
       " 'descriptor12': 'dried',\n",
       " 'name12': 'thyme',\n",
       " 'quantity13': '1',\n",
       " 'measurement13': 'pound',\n",
       " 'descriptor13': 'frozen',\n",
       " 'name13': 'cooked shrimp without tails'}"
      ]
     },
     "execution_count": 135,
     "metadata": {},
     "output_type": "execute_result"
    }
   ],
   "source": [
    "dict1"
   ]
  },
  {
   "cell_type": "code",
   "execution_count": 61,
   "metadata": {},
   "outputs": [],
   "source": []
  }
 ],
 "metadata": {
  "kernelspec": {
   "display_name": "Python 3",
   "language": "python",
   "name": "python3"
  },
  "language_info": {
   "codemirror_mode": {
    "name": "ipython",
    "version": 3
   },
   "file_extension": ".py",
   "mimetype": "text/x-python",
   "name": "python",
   "nbconvert_exporter": "python",
   "pygments_lexer": "ipython3",
   "version": "3.6.8"
  }
 },
 "nbformat": 4,
 "nbformat_minor": 2
}
