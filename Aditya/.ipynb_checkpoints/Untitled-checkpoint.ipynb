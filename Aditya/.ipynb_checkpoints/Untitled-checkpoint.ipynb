{
 "cells": [
  {
   "cell_type": "code",
   "execution_count": 5,
   "metadata": {},
   "outputs": [
    {
     "name": "stdout",
     "output_type": "stream",
     "text": [
      "3798\n"
     ]
    }
   ],
   "source": [
    "import string\n",
    "import nltk\n",
    "from nltk.corpus import wordnet\n",
    "%run urlscrapper.ipynb\n",
    "%run Methods.ipynb"
   ]
  },
  {
   "cell_type": "code",
   "execution_count": 6,
   "metadata": {},
   "outputs": [],
   "source": [
    "data = get_methods(getScrapedData(\"https://www.allrecipes.com/recipe/80827/easy-garlic-broiled-chicken\")['directions'])"
   ]
  },
  {
   "cell_type": "code",
   "execution_count": 7,
   "metadata": {},
   "outputs": [
    {
     "data": {
      "text/plain": [
       "{'Preheat the oven broiler': {'primary_method': [],\n",
       "  'seconary_method': ['preheat'],\n",
       "  'ingredient': ['broiler']},\n",
       " ' Lightly grease a baking pan': {'primary_method': [],\n",
       "  'seconary_method': ['grease'],\n",
       "  'ingredient': []},\n",
       " 'In a microwave safe bowl, mix the butter, garlic, soy sauce, pepper, and parsley': {'primary_method': [],\n",
       "  'seconary_method': ['microwave', 'mix'],\n",
       "  'ingredient': ['butter', 'garlic', 'soy', 'sauce', 'pepper', 'parsley']},\n",
       " ' Cook 2 minutes on High in the microwave, or until butter is melted': {'primary_method': ['cook'],\n",
       "  'seconary_method': ['microwave'],\n",
       "  'ingredient': ['butter']},\n",
       " 'Arrange chicken on the baking pan, and coat with the butter mixture, reserving some of the mixture for basting': {'primary_method': [],\n",
       "  'seconary_method': ['arrange', 'coat'],\n",
       "  'ingredient': ['chicken', 'butter', 'mixture', 'mixture']},\n",
       " 'Broil chicken 20 minutes in the preheated oven, until juices run clear, turning occasionally and basting with remaining butter mixture': {'primary_method': ['broil'],\n",
       "  'seconary_method': ['turning'],\n",
       "  'ingredient': ['chicken', 'butter', 'mixture']},\n",
       " ' Sprinkle with parsley to serve': {'primary_method': [],\n",
       "  'seconary_method': ['sprinkle'],\n",
       "  'ingredient': ['parsley']}}"
      ]
     },
     "execution_count": 7,
     "metadata": {},
     "output_type": "execute_result"
    }
   ],
   "source": [
    "data"
   ]
  },
  {
   "cell_type": "code",
   "execution_count": 8,
   "metadata": {},
   "outputs": [],
   "source": [
    "replace = {\n",
    "\"flour\":\"almond flour\",\n",
    "\"vegetable oil\":\"coconut oil\",\n",
    "\"tortillas\":\"lettuce leaves\",\n",
    "\"tortilla\":\"lettuce leaves\",\n",
    "\"couscous\": \"cauliflower rice\",\n",
    "\"rice\": \"cauliflower rice\",\n",
    "\"sugar\":\"stevia\",\n",
    "\"pasta sauce\": \"almond pesto\",\n",
    "\"penne\": \"whole wheat penne\",\n",
    "\"linguine\": \"whole wheat linguine\",\n",
    "\"fettuccine\": \"whole wheat fettuccine\",\n",
    "\"spaghetti\": \"spaghetti squash\",\n",
    "\"lasagna\": \"vegetable lasagna\",\n",
    "\"macaroni\": \"cauliflower\",\n",
    "\"mac and cheese\": \"cauliflower and cheese\",\n",
    "\"pasta salad\": \"mixed vegetables\",\n",
    "\"pasta\":\"veggie noodles\",\n",
    "\"breadcrumbs\": \"pork rinds\",\n",
    "\"bread crumbs\": \"pork rinds\",\n",
    "\"sliced bread\": \"eggplant\",\n",
    "\"white bread\": \"whole wheat bread\",\n",
    "\"pancakes\": \"oatmeal pancakes\",\n",
    "\"pizza crust\": \"fathead crust\",\n",
    "\"milk\": \"almond milk\",\n",
    "\"taco shell\": \"lettuce wrap\",\n",
    "\"french fries\": \"butternut squash fries\",\n",
    "\"hamburger buns\": \"portabello mushrooms\",\n",
    "\"burger buns\": \"portabello mushrooms\",\n",
    "\"buns\":\"portabello mushrooms\",\n",
    "\"scalloped potatoes\": \"tempeh\",\n",
    "\"mashed potatoes\": \"mashed cauliflower\",\n",
    "\"sweet potatoes\": \"zucchini\",\n",
    "\"potatoes\": \"zucchini\",\n",
    "\"potato chips\": \"kale chips\",\n",
    "\"hash browns\": \"squash\",\n",
    "\"bacon\": \"fresh pork belly\",\n",
    "\"baking soda\": \"sodium-free baking soda\",\n",
    "\"barbecue sauce\": \"low-sodium ketchup\",\n",
    "\"bbq sauce\": \"low-sodium ketchup\",\n",
    "\"beef jerky\": \"beef strips\",\n",
    "\"beef noodle soup\": \"mushroom broth\",\n",
    "\"blue cheese\": \"mozzarella cheese\",\n",
    "\"bullion\": \"mushroom broth\",\n",
    "\"camembert cheese\": \"mozzarella cheese\",\n",
    "\"canned anchovy\": \"low-sodium sardines\",\n",
    "\"canned corn\": \"fresh corn\",\n",
    "\"canned tomatoes\": \"fresh tomatoes\",\n",
    "\"capocollo\": \"low-sodium ham\",\n",
    "\"chicken noodle soup\": \"mushroom broth\",\n",
    "\"chicken soup\": \"mushroom broth\",\n",
    "\"cream of vegetable soup\": \"mushroom broth\",\n",
    "\"dried beef\": \"beef strips\",\n",
    "\"feta cheese\": \"mozzarella cheese\",\n",
    "\"fish sauce\": \"vinegar\",\n",
    "\"gouda cheese\": \"mozzarella cheese\",\n",
    "\"hot pepper sauce\": \"red pepper flakes\",\n",
    "\"instant soup\": \"mushroom broth\",\n",
    "\"italian salami\": \"low-sodium ham\",\n",
    "\"ketchup\": \"low-sodium ketchup\",\n",
    "\"marinade\": \"flavored vinegar\",\n",
    "\"mayonnaise\": \"yogurt\",\n",
    "\"mortadella\": \"low-sodium ham\",\n",
    "\"olives\": \"baked grapes\",\n",
    "\"onion soup\": \"mushroom broth\",\n",
    "\"oyster sauce\": \"vinegar\",\n",
    "\"paremsan cheese\": \"mozzarella cheese\",\n",
    "\"pepperoni\": \"low-sodium ham\",\n",
    "\"pickle\": \"cucumber\",\n",
    "\"pickled eggplant\": \"eggplant\",\n",
    "\"pickled peppers\": \"fresh chiles\",\n",
    "\"prosciutto\": \"low-sodium ham\",\n",
    "\"queso seco\": \"mozzarella cheese\",\n",
    "\"ranch dressing\": \"balsamic vinegar\",\n",
    "\"relish\": \"low-sodium sweet relish\",\n",
    "\"romano cheese\": \"mozzarella cheese\",\n",
    "\"roquefort cheese\": \"mozzarella cheese\",\n",
    "\"salad dressing\": \"olive oil\",\n",
    "\"salami\": \"low-sodium ham\",\n",
    "\"salt and pepper\": \"pepper\",\n",
    "\"salt cod\": \"fresh cod\",\n",
    "\"salted butter\": \"unsalted butter\",\n",
    "\"salted mackerel\": \"fresh mackerel\",\n",
    "\"lightly salted \": \"\",\n",
    "\"salted \": \"\",\n",
    "\"sauerkraut\": \"chopped cabbage\",\n",
    "\"sea salt\": \"sesame oil\",\n",
    "\"salt\": \"low-sodium salt substitute\",\n",
    "\"smoked herring\": \"seared herring\",\n",
    "\"smoked salmon\": \"fresh salmon\",\n",
    "\"smoked white fish\": \"seared white fish\",\n",
    "\"soup cube\": \"mushroom broth\",\n",
    "\"soup\": \"vegetable puree\",\n",
    "\"soy sauce\": \"low-sodium soy sauce\",\n",
    "\"steak sauce\": \"low-sodium steak sauce\",\n",
    "\"stock cube\": \"mushroom broth\",\n",
    "\"stock\": \"mushroom broth\",\n",
    "\"table salt\": \"sesame oil\",\n",
    "\"teriyaki sauce\": \"vinegar\",\n",
    "\"tomato soup\": \"mushroom broth\",\n",
    "\"turkey bacon\": \"fresh turkey strips\",\n",
    "\"turkey salami\": \"low-sodium ham\",\n",
    "\"vegetable soup\": \"mushroom broth\",\n",
    "\"chocolate\": \"carob\"\n",
    "}"
   ]
  },
  {
   "cell_type": "code",
   "execution_count": 42,
   "metadata": {},
   "outputs": [],
   "source": [
    "def replace_instructions(directions):\n",
    "    update_dir = []\n",
    "    for each in directions:\n",
    "        for e_replace in replace:\n",
    "            if e_replace in each:\n",
    "                each = each.replace(e_replace, replace[e_replace])\n",
    "        update_dir.append(each)                    \n",
    "    return update_dir\n",
    "                                    \n",
    "u = replace_instructions(data)"
   ]
  },
  {
   "cell_type": "code",
   "execution_count": 43,
   "metadata": {},
   "outputs": [
    {
     "data": {
      "text/plain": [
       "['Preheat the oven broiler',\n",
       " ' Lightly grease a baking pan',\n",
       " 'In a microwave safe bowl, mix the butter, garlic, low-sodium soy sauce, pepper, and parsley',\n",
       " ' Cook 2 minutes on High in the microwave, or until butter is melted',\n",
       " 'Arrange chicken on the baking pan, and coat with the butter mixture, reserving some of the mixture for basting',\n",
       " 'Broil chicken 20 minutes in the preheated oven, until juices run clear, turning occasionally and basting with remaining butter mixture',\n",
       " ' Sprinkle with parsley to serve']"
      ]
     },
     "execution_count": 43,
     "metadata": {},
     "output_type": "execute_result"
    }
   ],
   "source": [
    "u"
   ]
  },
  {
   "cell_type": "code",
   "execution_count": 44,
   "metadata": {},
   "outputs": [
    {
     "data": {
      "text/plain": [
       "dict_keys(['Preheat the oven broiler', ' Lightly grease a baking pan', 'In a microwave safe bowl, mix the butter, garlic, soy sauce, pepper, and parsley', ' Cook 2 minutes on High in the microwave, or until butter is melted', 'Arrange chicken on the baking pan, and coat with the butter mixture, reserving some of the mixture for basting', 'Broil chicken 20 minutes in the preheated oven, until juices run clear, turning occasionally and basting with remaining butter mixture', ' Sprinkle with parsley to serve'])"
      ]
     },
     "execution_count": 44,
     "metadata": {},
     "output_type": "execute_result"
    }
   ],
   "source": [
    "data.keys()"
   ]
  },
  {
   "cell_type": "code",
   "execution_count": null,
   "metadata": {},
   "outputs": [],
   "source": []
  }
 ],
 "metadata": {
  "kernelspec": {
   "display_name": "Python 3",
   "language": "python",
   "name": "python3"
  },
  "language_info": {
   "codemirror_mode": {
    "name": "ipython",
    "version": 3
   },
   "file_extension": ".py",
   "mimetype": "text/x-python",
   "name": "python",
   "nbconvert_exporter": "python",
   "pygments_lexer": "ipython3",
   "version": "3.6.5"
  }
 },
 "nbformat": 4,
 "nbformat_minor": 2
}
