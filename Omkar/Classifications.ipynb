{
 "cells": [
  {
   "cell_type": "code",
   "execution_count": 1,
   "metadata": {},
   "outputs": [],
   "source": [
    "from lxml import html\n",
    "import requests\n",
    "\n",
    "def getScrapedData(url):\n",
    "    tree = html.fromstring(requests.get(url).content)\n",
    "    recepie_all_data = {}\n",
    "    nutrition = {}\n",
    "    recepie_all_data[\"nutrition\"] = nutrition\n",
    "    recepie_all_data[\"directions\"] = tree.xpath('//span[@class=\"recipe-directions__list--item\"]/text()')\n",
    "    recepie_all_data[\"ingredients\"] = tree.xpath('//span[@class=\"recipe-ingred_txt added\"]/text()')\n",
    "    recepie_all_data[\"nutrition\"][\"fatContent\"] = tree.xpath('//span[@itemprop=\"fatContent\"]/text()')\n",
    "    recepie_all_data[\"nutrition\"][\"carbohydrateContent\"] = tree.xpath('//span[@itemprop=\"carbohydrateContent\"]/text()')\n",
    "    recepie_all_data[\"nutrition\"][\"calories\"] = tree.xpath('//span[@itemprop=\"calories\"]/text()')\n",
    "    recepie_all_data[\"nutrition\"][\"proteinContent\"] = tree.xpath('//span[@itemprop=\"proteinContent\"]/text()')\n",
    "    recepie_all_data[\"nutrition\"][\"cholesterolContent\"] = tree.xpath('//span[@itemprop=\"cholesterolContent\"]/text()')\n",
    "    recepie_all_data[\"nutrition\"][\"sodiumContent\"] = tree.xpath('//span[@itemprop=\"sodiumContent\"]/text()')\n",
    "    return recepie_all_data"
   ]
  },
  {
   "cell_type": "code",
   "execution_count": 17,
   "metadata": {},
   "outputs": [
    {
     "name": "stdout",
     "output_type": "stream",
     "text": [
      "{'fatContent': ['25.1 '], 'carbohydrateContent': ['2.3'], 'calories': ['303 calories;'], 'proteinContent': ['16.8 '], 'cholesterolContent': ['99 '], 'sodiumContent': ['615 ']}\n"
     ]
    }
   ],
   "source": [
    "nutrition = getScrapedData(\"https://www.allrecipes.com/recipe/80827/easy-garlic-broiled-chicken\")\n",
    "print(nutrition['nutrition'])"
   ]
  },
  {
   "cell_type": "code",
   "execution_count": 35,
   "metadata": {},
   "outputs": [],
   "source": [
    "def get_classifications(nutrition):\n",
    "    nutrition['nutrition']['calories'][0] = nutrition['nutrition']['calories'][0].split(' ')[0]    \n",
    "    fat_content = float(nutrition['nutrition']['fatContent'][0])\n",
    "    carbs = float(nutrition['nutrition']['carbohydrateContent'][0])\n",
    "    calories = float(nutrition['nutrition']['calories'][0])\n",
    "    protein = float(nutrition['nutrition']['proteinContent'][0])\n",
    "    choles = float(nutrition['nutrition']['cholesterolContent'][0])\n",
    "    sodium = float(nutrition['nutrition']['sodiumContent'][0])\n",
    "    \n",
    "    fat_cal = fat_content*9\n",
    "    carbs_cal = carbs*4\n",
    "    protein_cal = protein*4\n",
    "    \n",
    "    \n",
    "    classifications = dict()\n",
    "    if carbs_cal >= (calories*45/100) and carbs_cal <= (calories*65/100):\n",
    "        classifications['carbs'] = 'normal'\n",
    "    elif carbs_cal < (calories*45/100):\n",
    "        classifications['carbs'] = 'low'\n",
    "    elif carbs_cal > (calories*65/100):\n",
    "        classifications['carbs'] = 'high'\n",
    "        \n",
    "    if fat_cal >= (calories*20/100) and fat_cal <= (calories*35/100):\n",
    "        classifications['fat'] = 'normal'\n",
    "    elif fat_cal < (calories*20/100):\n",
    "        classifications['fat'] = 'low'\n",
    "    elif fat_cal > (calories*35/100):\n",
    "        classifications['fat'] = 'high'\n",
    "        \n",
    "    if protein_cal >= (calories*10/100) and protein_cal <= (calories*35/100):\n",
    "        classifications['protein'] = 'normal'\n",
    "    elif protein_cal < (calories*10/100):\n",
    "        classifications['protein'] = 'low'\n",
    "    elif protein_cal > (calories*35/100):\n",
    "        classifications['protein'] = 'high'\n",
    "        \n",
    "    if sodium >= 140 and sodium <= 400:\n",
    "        classifications['sodium'] = 'normal'\n",
    "    elif sodium < 140:\n",
    "        classifications['sodium'] = 'low'\n",
    "    elif sodium > 400:\n",
    "        classifications['sodium'] = 'high'\n",
    "        \n",
    "    \n",
    "        \n",
    "    return classifications\n",
    "        \n",
    "    \n",
    "    "
   ]
  },
  {
   "cell_type": "code",
   "execution_count": 36,
   "metadata": {},
   "outputs": [
    {
     "data": {
      "text/plain": [
       "{'carbs': 'low', 'fat': 'high', 'protein': 'normal', 'sodium': 'high'}"
      ]
     },
     "execution_count": 36,
     "metadata": {},
     "output_type": "execute_result"
    }
   ],
   "source": [
    "get_classifications(nutrition)"
   ]
  },
  {
   "cell_type": "code",
   "execution_count": null,
   "metadata": {},
   "outputs": [],
   "source": []
  }
 ],
 "metadata": {
  "kernelspec": {
   "display_name": "Python 3",
   "language": "python",
   "name": "python3"
  },
  "language_info": {
   "codemirror_mode": {
    "name": "ipython",
    "version": 3
   },
   "file_extension": ".py",
   "mimetype": "text/x-python",
   "name": "python",
   "nbconvert_exporter": "python",
   "pygments_lexer": "ipython3",
   "version": "3.6.8"
  }
 },
 "nbformat": 4,
 "nbformat_minor": 2
}
