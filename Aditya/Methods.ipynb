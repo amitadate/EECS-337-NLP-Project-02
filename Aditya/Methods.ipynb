{
 "cells": [
  {
   "cell_type": "code",
   "execution_count": 12,
   "metadata": {},
   "outputs": [],
   "source": [
    "import string\n",
    "import nltk\n",
    "from nltk.corpus import wordnet as wn\n",
    "%run urlscrapper.ipynb"
   ]
  },
  {
   "cell_type": "code",
   "execution_count": 13,
   "metadata": {},
   "outputs": [],
   "source": [
    "PRIMARY_COOKING_METHODS = ['bake', 'steam', 'grill', 'roast', 'boil', 'fry', 'barbeque', 'baste', 'broil', 'poach', 'freeze', 'cure', 'saute', 'cook']\n",
    "SECONDARY_COOKING_METHODS = ['chop', 'grate', 'cut', 'shake', 'mince', 'stir', 'mix', 'crush', 'squeeze', 'beat', 'blend', 'caramelize', 'dice', 'dust',\n",
    "                             'glaze', 'knead', 'pare', 'shred', 'toss', 'whip', 'sprinkle', 'grease', 'arrange', 'microwave', 'coat', 'turning','preheat', \n",
    "                             'broil', 'marinate', 'brushing', 'slice', 'season', 'whisk', 'heat']\n",
    "\n",
    "all_food = list(set([w for s in wn.synset('food.n.02').closure(lambda s:s.hyponyms()) for w in s.lemma_names()]))\n",
    "\n",
    "def get_methods(directions):\n",
    "    primary_methods = []\n",
    "    p_m_on = []\n",
    "    secondary_method = []\n",
    "    s_m_on = []\n",
    "    for e in directions:\n",
    "        for i in e.split(\" \"):\n",
    "            cur_word = i.lower()\n",
    "            cur_word = cur_word.strip(string.punctuation)\n",
    "            if cur_word in PRIMARY_COOKING_METHODS:\n",
    "                primary_methods.append(cur_word)\n",
    "            elif cur_word in SECONDARY_COOKING_METHODS:\n",
    "                secondary_method.append(cur_word)\n",
    "    return primary_methods, secondary_method"
   ]
  },
  {
   "cell_type": "code",
   "execution_count": 14,
   "metadata": {},
   "outputs": [
    {
     "data": {
      "text/plain": [
       "(['boil', 'cook', 'saute', 'cook', 'cook', 'cook'],\n",
       " ['heat', 'stir', 'stir', 'whisk', 'heat', 'season'])"
      ]
     },
     "execution_count": 14,
     "metadata": {},
     "output_type": "execute_result"
    }
   ],
   "source": [
    "get_methods(getScrapedData(\"https://www.allrecipes.com/recipe/45933/creamy-cajun-shrimp-pasta\")['directions'])"
   ]
  },
  {
   "cell_type": "code",
   "execution_count": 15,
   "metadata": {},
   "outputs": [
    {
     "data": {
      "text/plain": [
       "(['cook', 'broil'],\n",
       " ['preheat',\n",
       "  'grease',\n",
       "  'microwave',\n",
       "  'mix',\n",
       "  'microwave',\n",
       "  'arrange',\n",
       "  'coat',\n",
       "  'turning',\n",
       "  'sprinkle'])"
      ]
     },
     "execution_count": 15,
     "metadata": {},
     "output_type": "execute_result"
    }
   ],
   "source": [
    "get_methods(getScrapedData(\"https://www.allrecipes.com/recipe/80827/easy-garlic-broiled-chicken\")['directions'])"
   ]
  },
  {
   "cell_type": "code",
   "execution_count": null,
   "metadata": {},
   "outputs": [],
   "source": []
  }
 ],
 "metadata": {
  "kernelspec": {
   "display_name": "Python 3",
   "language": "python",
   "name": "python3"
  },
  "language_info": {
   "codemirror_mode": {
    "name": "ipython",
    "version": 3
   },
   "file_extension": ".py",
   "mimetype": "text/x-python",
   "name": "python",
   "nbconvert_exporter": "python",
   "pygments_lexer": "ipython3",
   "version": "3.6.5"
  }
 },
 "nbformat": 4,
 "nbformat_minor": 2
}
