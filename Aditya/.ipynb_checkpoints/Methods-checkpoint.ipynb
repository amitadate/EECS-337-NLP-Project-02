{
 "cells": [
  {
   "cell_type": "code",
   "execution_count": 3,
   "metadata": {},
   "outputs": [],
   "source": [
    "import string\n",
    "import nltk\n",
    "from nltk.corpus import wordnet\n",
    "%run urlscrapper.ipynb"
   ]
  },
  {
   "cell_type": "code",
   "execution_count": 31,
   "metadata": {},
   "outputs": [
    {
     "name": "stdout",
     "output_type": "stream",
     "text": [
      "3798\n"
     ]
    }
   ],
   "source": [
    "PRIMARY_COOKING_METHODS = ['bake', 'steam', 'grill', 'roast', 'boil', 'fry', 'barbeque', 'baste', 'broil', 'poach', 'freeze', 'cure', 'saute', 'cook']\n",
    "SECONDARY_COOKING_METHODS = ['chop', 'grate', 'cut', 'shake', 'mince', 'stir', 'mix', 'crush', 'squeeze', 'beat', 'blend', 'caramelize', 'dice', 'dust',\n",
    "                             'glaze', 'knead', 'pare', 'shred', 'toss', 'whip', 'sprinkle', 'grease', 'arrange', 'microwave', 'coat', 'turning','preheat', \n",
    "                             'broil', 'marinate', 'brushing', 'slice', 'season', 'whisk', 'heat', 'drain', 'stirring']\n",
    "\n",
    "all_food1 = list(set([w for s in wordnet.synset('food.n.01').closure(lambda s:s.hyponyms()) for w in s.lemma_names()]))\n",
    "all_food2 = list(set([w for s in wordnet.synset('food.n.02').closure(lambda s:s.hyponyms()) for w in s.lemma_names()]))\n",
    "all_food = all_food1 + all_food2\n",
    "print(len(all_food))\n",
    "\n",
    "def get_methods(directions):\n",
    "    primary_methods = []\n",
    "    secondary_method = []\n",
    "    method = {}\n",
    "    for e in directions:\n",
    "        for j  in e.split(\".\"):\n",
    "            if \"\\n\" in j:\n",
    "                continue\n",
    "            method[j] = {}\n",
    "            method[j][\"primary_method\"] = []\n",
    "            method[j][\"seconary_method\"] = []\n",
    "            method[j][\"ingredient\"] = []\n",
    "            \n",
    "            for i in j.split(\" \"):\n",
    "                cur_word = i.lower()\n",
    "                cur_word = cur_word.strip(string.punctuation)\n",
    "                if cur_word in PRIMARY_COOKING_METHODS:\n",
    "                    method[j][\"primary_method\"].append(cur_word)\n",
    "                elif cur_word in SECONDARY_COOKING_METHODS:\n",
    "                    method[j][\"seconary_method\"].append(cur_word)\n",
    "                elif cur_word in all_food:\n",
    "                    method[j][\"ingredient\"].append(cur_word)                    \n",
    "    return method"
   ]
  },
  {
   "cell_type": "code",
   "execution_count": 32,
   "metadata": {},
   "outputs": [
    {
     "data": {
      "text/plain": [
       "{'Bring a large pot of lightly salted water to a boil': {'primary_method': ['boil'],\n",
       "  'seconary_method': [],\n",
       "  'ingredient': ['water']},\n",
       " ' Add pasta and cook for 4 minutes or until al dente; drain': {'primary_method': ['cook'],\n",
       "  'seconary_method': ['drain'],\n",
       "  'ingredient': ['pasta']},\n",
       " 'Melt butter in a large heavy skillet over medium heat': {'primary_method': [],\n",
       "  'seconary_method': ['heat'],\n",
       "  'ingredient': ['butter', 'medium']},\n",
       " ' Saute shrimp for 1 minute on each side': {'primary_method': ['saute'],\n",
       "  'seconary_method': [],\n",
       "  'ingredient': ['shrimp', 'side']},\n",
       " ' Stir in garlic, and cook for 1 minute': {'primary_method': ['cook'],\n",
       "  'seconary_method': ['stir'],\n",
       "  'ingredient': ['garlic']},\n",
       " ' Remove shrimp with a slotted spoon; set aside': {'primary_method': [],\n",
       "  'seconary_method': [],\n",
       "  'ingredient': ['shrimp']},\n",
       " ' Stir in flour and Cajun seasoning': {'primary_method': [],\n",
       "  'seconary_method': ['stir'],\n",
       "  'ingredient': ['flour', 'seasoning']},\n",
       " ' Cook, stirring for 5 minutes': {'primary_method': ['cook'],\n",
       "  'seconary_method': ['stirring'],\n",
       "  'ingredient': []},\n",
       " ' Gradually whisk in milk, then cook until thickened': {'primary_method': ['cook'],\n",
       "  'seconary_method': ['whisk'],\n",
       "  'ingredient': ['milk']},\n",
       " ' Remove from heat, and season with salt and lemon juice': {'primary_method': [],\n",
       "  'seconary_method': ['heat', 'season'],\n",
       "  'ingredient': ['salt', 'lemon', 'juice']},\n",
       " ' Return shrimp to sauce, and spoon over cooked pasta': {'primary_method': [],\n",
       "  'seconary_method': [],\n",
       "  'ingredient': ['shrimp', 'sauce', 'pasta']}}"
      ]
     },
     "execution_count": 32,
     "metadata": {},
     "output_type": "execute_result"
    }
   ],
   "source": [
    "get_methods(getScrapedData(\"https://www.allrecipes.com/recipe/45933/creamy-cajun-shrimp-pasta\")['directions'])"
   ]
  },
  {
   "cell_type": "code",
   "execution_count": 33,
   "metadata": {},
   "outputs": [
    {
     "data": {
      "text/plain": [
       "{'Preheat the oven broiler': {'primary_method': [],\n",
       "  'seconary_method': ['preheat'],\n",
       "  'ingredient': ['broiler']},\n",
       " ' Lightly grease a baking pan': {'primary_method': [],\n",
       "  'seconary_method': ['grease'],\n",
       "  'ingredient': []},\n",
       " 'In a microwave safe bowl, mix the butter, garlic, soy sauce, pepper, and parsley': {'primary_method': [],\n",
       "  'seconary_method': ['microwave', 'mix'],\n",
       "  'ingredient': ['butter', 'garlic', 'soy', 'sauce', 'pepper', 'parsley']},\n",
       " ' Cook 2 minutes on High in the microwave, or until butter is melted': {'primary_method': ['cook'],\n",
       "  'seconary_method': ['microwave'],\n",
       "  'ingredient': ['butter']},\n",
       " 'Arrange chicken on the baking pan, and coat with the butter mixture, reserving some of the mixture for basting': {'primary_method': [],\n",
       "  'seconary_method': ['arrange', 'coat'],\n",
       "  'ingredient': ['chicken', 'butter', 'mixture', 'mixture']},\n",
       " 'Broil chicken 20 minutes in the preheated oven, until juices run clear, turning occasionally and basting with remaining butter mixture': {'primary_method': ['broil'],\n",
       "  'seconary_method': ['turning'],\n",
       "  'ingredient': ['chicken', 'butter', 'mixture']},\n",
       " ' Sprinkle with parsley to serve': {'primary_method': [],\n",
       "  'seconary_method': ['sprinkle'],\n",
       "  'ingredient': ['parsley']}}"
      ]
     },
     "execution_count": 33,
     "metadata": {},
     "output_type": "execute_result"
    }
   ],
   "source": [
    "get_methods(getScrapedData(\"https://www.allrecipes.com/recipe/80827/easy-garlic-broiled-chicken\")['directions'])"
   ]
  },
  {
   "cell_type": "code",
   "execution_count": null,
   "metadata": {},
   "outputs": [],
   "source": []
  }
 ],
 "metadata": {
  "kernelspec": {
   "display_name": "Python 3",
   "language": "python",
   "name": "python3"
  },
  "language_info": {
   "codemirror_mode": {
    "name": "ipython",
    "version": 3
   },
   "file_extension": ".py",
   "mimetype": "text/x-python",
   "name": "python",
   "nbconvert_exporter": "python",
   "pygments_lexer": "ipython3",
   "version": "3.6.5"
  }
 },
 "nbformat": 4,
 "nbformat_minor": 2
}
