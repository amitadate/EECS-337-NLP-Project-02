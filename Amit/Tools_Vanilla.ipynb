{
 "cells": [
  {
   "cell_type": "code",
   "execution_count": 10,
   "metadata": {},
   "outputs": [],
   "source": [
    "import string\n",
    "import nltk\n",
    "from nltk.corpus import wordnet as wn\n",
    "%run urlscrapper.ipynb"
   ]
  },
  {
   "cell_type": "code",
   "execution_count": 11,
   "metadata": {},
   "outputs": [],
   "source": [
    "\n"
   ]
  },
  {
   "cell_type": "code",
   "execution_count": 25,
   "metadata": {},
   "outputs": [],
   "source": [
    "def get_tools(directions):\n",
    "    Toolwa = ['pan', 'bowl', 'baster', 'saucepan', 'knife', 'oven', 'beanpot', 'chip pan', 'cookie sheet', 'cooking pot', 'crepe pan', 'double boiler', 'doufeu', \t\n",
    "         'dutch oven', 'food processor', 'frying pan', 'skillet', 'griddle', 'karahi', 'kettle', 'pan', 'pressure cooker', 'ramekin', 'roasting pan', \n",
    "         'roasting rack', 'saucepansauciersaute pan', 'splayed saute pan', 'souffle dish', 'springform pan', 'stockpot', 'tajine', 'tube panwok', \t\n",
    "         'wonder pot', 'pot', 'apple corer', 'apple cutter', 'baster', 'biscuit cutter', 'biscuit press', 'baking dish', 'bread knife', 'browning tray', \t\n",
    "         'butter curler', 'cake and pie server', 'cheese knife', 'cheesecloth', 'knife', 'cherry pitter', 'chinoise', 'cleaver', 'corkscrew', \n",
    "         'cutting board', 'dough scraper', 'egg poacher', 'egg separator', 'egg slicer', 'egg timer', 'fillet knife', 'fish scaler', 'fish slice', \n",
    "         'flour sifter', 'food mill', 'funnel', 'garlic press', 'grapefruit knife', 'grater', 'gravy strainer', 'ladle', 'lame', 'lemon reamer', \n",
    "         'lemon squeezer', 'mandoline', 'mated colander pot', 'measuring cup', 'measuring spoon', 'grinder', 'tenderiser', 'thermometer', 'melon baller',\n",
    "         'mortar and pestle', 'nutcracker', 'nutmeg grater', 'oven glove', 'blender', 'fryer', 'pastry bush', 'pastry wheel', 'peeler', 'pepper mill', \n",
    "         'pizza cutter', 'masher', 'potato ricer', 'pot-holder', 'rolling pin', 'salt shaker', 'sieve', 'spoon', 'fork', 'spatula', 'spider', 'tin opener',\n",
    "         'tongs', 'whisk', 'wooden spoon', 'zester', 'microwave', 'cylinder', 'Aluminum foil', 'steamer', 'broiler rack', 'grate', 'shallow glass dish', 'wok', \n",
    "         'dish', 'broiler tray', 'slow cooker']\n",
    "    dictwi = {}\n",
    "    for e in directions:\n",
    "        for j  in e.split(\".\"):\n",
    "            if \"\\n\" in j:\n",
    "                continue\n",
    "                \n",
    "            dictwa = []\n",
    "            dictwi[j] = dictwa\n",
    "            for i in j.split(\" \"):\n",
    "                cur_word = i.lower()\n",
    "                cur_word = cur_word.strip(string.punctuation)\n",
    "                if cur_word in Toolwa:\n",
    "                    dictwa.append(cur_word)\n",
    "    return dictwi"
   ]
  },
  {
   "cell_type": "code",
   "execution_count": 26,
   "metadata": {},
   "outputs": [],
   "source": [
    "k = getScrapedData(\"https://www.allrecipes.com/recipe/45933/creamy-cajun-shrimp-pasta\")['directions']"
   ]
  },
  {
   "cell_type": "code",
   "execution_count": 27,
   "metadata": {},
   "outputs": [
    {
     "data": {
      "text/plain": [
       "{'Bring a large pot of lightly salted water to a boil': ['pot'],\n",
       " ' Add pasta and cook for 4 minutes or until al dente; drain': [],\n",
       " 'Melt butter in a large heavy skillet over medium heat': ['skillet'],\n",
       " ' Saute shrimp for 1 minute on each side': [],\n",
       " ' Stir in garlic, and cook for 1 minute': [],\n",
       " ' Remove shrimp with a slotted spoon; set aside': ['spoon'],\n",
       " ' Stir in flour and Cajun seasoning': [],\n",
       " ' Cook, stirring for 5 minutes': [],\n",
       " ' Gradually whisk in milk, then cook until thickened': ['whisk'],\n",
       " ' Remove from heat, and season with salt and lemon juice': [],\n",
       " ' Return shrimp to sauce, and spoon over cooked pasta': ['spoon']}"
      ]
     },
     "execution_count": 27,
     "metadata": {},
     "output_type": "execute_result"
    }
   ],
   "source": [
    "get_tools(k)"
   ]
  },
  {
   "cell_type": "code",
   "execution_count": null,
   "metadata": {},
   "outputs": [],
   "source": []
  }
 ],
 "metadata": {
  "kernelspec": {
   "display_name": "Python 3",
   "language": "python",
   "name": "python3"
  },
  "language_info": {
   "codemirror_mode": {
    "name": "ipython",
    "version": 3
   },
   "file_extension": ".py",
   "mimetype": "text/x-python",
   "name": "python",
   "nbconvert_exporter": "python",
   "pygments_lexer": "ipython3",
   "version": "3.6.8"
  }
 },
 "nbformat": 4,
 "nbformat_minor": 2
}
