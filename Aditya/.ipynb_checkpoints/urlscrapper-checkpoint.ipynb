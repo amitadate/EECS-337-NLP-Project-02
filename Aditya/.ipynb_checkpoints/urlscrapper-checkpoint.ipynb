{
 "cells": [
  {
   "cell_type": "code",
   "execution_count": 47,
   "metadata": {},
   "outputs": [],
   "source": [
    "from lxml import html\n",
    "import requests\n",
    "import string\n",
    "import nltk\n",
    "from nltk.corpus import wordnet as wn\n",
    "\n",
    "def getScrapedData(url):\n",
    "    tree = html.fromstring(requests.get(url).content)\n",
    "    recepie_all_data = {}\n",
    "    nutrition = {}\n",
    "    recepie_all_data[\"nutrition\"] = nutrition\n",
    "    recepie_all_data[\"directions\"] = tree.xpath('//span[@class=\"recipe-directions__list--item\"]/text()')\n",
    "    recepie_all_data[\"ingredients\"] = tree.xpath('//span[@class=\"recipe-ingred_txt added\"]/text()')\n",
    "    recepie_all_data[\"nutrition\"][\"fatContent\"] = tree.xpath('//span[@itemprop=\"fatContent\"]/text()')\n",
    "    recepie_all_data[\"nutrition\"][\"carbohydrateContent\"] = tree.xpath('//span[@itemprop=\"carbohydrateContent\"]/text()')\n",
    "    recepie_all_data[\"nutrition\"][\"calories\"] = tree.xpath('//span[@itemprop=\"calories\"]/text()')\n",
    "    recepie_all_data[\"nutrition\"][\"proteinContent\"] = tree.xpath('//span[@itemprop=\"proteinContent\"]/text()')\n",
    "    recepie_all_data[\"nutrition\"][\"cholesterolContent\"] = tree.xpath('//span[@itemprop=\"cholesterolContent\"]/text()')\n",
    "    recepie_all_data[\"nutrition\"][\"sodiumContent\"] = tree.xpath('//span[@itemprop=\"sodiumContent\"]/text()')\n",
    "    return recepie_all_data"
   ]
  },
  {
   "cell_type": "code",
   "execution_count": 48,
   "metadata": {},
   "outputs": [
    {
     "data": {
      "text/plain": [
       "{'nutrition': {'fatContent': ['25.1 '],\n",
       "  'carbohydrateContent': ['2.3'],\n",
       "  'calories': ['303 calories;'],\n",
       "  'proteinContent': ['16.8 '],\n",
       "  'cholesterolContent': ['99 '],\n",
       "  'sodiumContent': ['615 ']},\n",
       " 'directions': ['Preheat the oven broiler. Lightly grease a baking pan.\\n                            ',\n",
       "  'In a microwave safe bowl, mix the butter, garlic, soy sauce, pepper, and parsley. Cook 2 minutes on High in the microwave, or until butter is melted.\\n                            ',\n",
       "  'Arrange chicken on the baking pan, and coat with the butter mixture, reserving some of the mixture for basting.\\n                            ',\n",
       "  'Broil chicken 20 minutes in the preheated oven, until juices run clear, turning occasionally and basting with remaining butter mixture. Sprinkle with parsley to serve.\\n                            '],\n",
       " 'ingredients': ['1/2 cup butter',\n",
       "  '3 tablespoons minced garlic',\n",
       "  '3 tablespoons soy sauce',\n",
       "  '1/4 teaspoon black pepper',\n",
       "  '1 tablespoon dried parsley',\n",
       "  '6 boneless chicken thighs, with skin',\n",
       "  'dried parsley, to taste']}"
      ]
     },
     "execution_count": 48,
     "metadata": {},
     "output_type": "execute_result"
    }
   ],
   "source": [
    "getScrapedData(\"https://www.allrecipes.com/recipe/80827/easy-garlic-broiled-chicken\")"
   ]
  },
  {
   "cell_type": "code",
   "execution_count": 49,
   "metadata": {},
   "outputs": [
    {
     "data": {
      "text/plain": [
       "{'nutrition': {'fatContent': ['17.6 '],\n",
       "  'carbohydrateContent': ['46'],\n",
       "  'calories': ['483 calories;'],\n",
       "  'proteinContent': ['34.4 '],\n",
       "  'cholesterolContent': ['213 '],\n",
       "  'sodiumContent': ['1271 ']},\n",
       " 'directions': ['Bring a large pot of lightly salted water to a boil. Add pasta and cook for 4 minutes or until al dente; drain.\\n                            ',\n",
       "  'Melt butter in a large heavy skillet over medium heat. Saute shrimp for 1 minute on each side. Stir in garlic, and cook for 1 minute. Remove shrimp with a slotted spoon; set aside. Stir in flour and Cajun seasoning. Cook, stirring for 5 minutes. Gradually whisk in milk, then cook until thickened. Remove from heat, and season with salt and lemon juice. Return shrimp to sauce, and spoon over cooked pasta.\\n                            '],\n",
       " 'ingredients': ['1 (8 ounce) package angel hair pasta',\n",
       "  '1/4 cup butter',\n",
       "  '1 pound shrimp, peeled and deveined',\n",
       "  '1 clove garlic, minced',\n",
       "  '1/4 cup all-purpose flour',\n",
       "  '2 tablespoons Cajun seasoning',\n",
       "  '2 cups milk',\n",
       "  '1/4 teaspoon salt',\n",
       "  '1 tablespoon lemon juice']}"
      ]
     },
     "execution_count": 49,
     "metadata": {},
     "output_type": "execute_result"
    }
   ],
   "source": [
    "getScrapedData(\"https://www.allrecipes.com/recipe/45933/creamy-cajun-shrimp-pasta\")"
   ]
  },
  {
   "cell_type": "code",
   "execution_count": 57,
   "metadata": {},
   "outputs": [],
   "source": [
    "PRIMARY_COOKING_METHODS = ['bake', 'steam', 'grill', 'roast', 'boil', 'fry', 'barbeque', 'baste', 'broil', 'poach', 'freeze', 'cure', 'saute', 'cook']\n",
    "SECONDARY_COOKING_METHODS = ['chop', 'grate', 'cut', 'shake', 'mince', 'stir', 'mix', 'crush', 'squeeze', 'beat', 'blend', 'caramelize', 'dice', 'dust',\n",
    "                             'glaze', 'knead', 'pare', 'shred', 'toss', 'whip', 'sprinkle', 'grease', 'arrange', 'microwave', 'coat', 'turning','preheat', \n",
    "                             'broil', 'marinate', 'brushing', 'slice', 'season', 'whisk', 'heat']\n",
    "\n",
    "all_food = list(set([w for s in wn.synset('food.n.02').closure(lambda s:s.hyponyms()) for w in s.lemma_names()]))\n",
    "\n",
    "def get_methods(directions):\n",
    "    primary_methods = []\n",
    "    p_m_on = []\n",
    "    secondary_method = []\n",
    "    s_m_on = []\n",
    "    for e in directions:\n",
    "        for i in e.split(\" \"):\n",
    "            cur_word = i.lower()\n",
    "            cur_word = cur_word.strip(string.punctuation)\n",
    "            if cur_word in PRIMARY_COOKING_METHODS:\n",
    "                primary_methods.append(cur_word)\n",
    "            elif cur_word in SECONDARY_COOKING_METHODS:\n",
    "                secondary_method.append(cur_word)\n",
    "    return primary_methods, secondary_method"
   ]
  },
  {
   "cell_type": "code",
   "execution_count": 58,
   "metadata": {},
   "outputs": [
    {
     "data": {
      "text/plain": [
       "(['boil', 'cook', 'saute', 'cook', 'cook', 'cook'],\n",
       " ['heat', 'stir', 'stir', 'whisk', 'heat', 'season'])"
      ]
     },
     "execution_count": 58,
     "metadata": {},
     "output_type": "execute_result"
    }
   ],
   "source": [
    "get_methods(getScrapedData(\"https://www.allrecipes.com/recipe/45933/creamy-cajun-shrimp-pasta\")['directions'])"
   ]
  },
  {
   "cell_type": "code",
   "execution_count": 59,
   "metadata": {},
   "outputs": [
    {
     "data": {
      "text/plain": [
       "(['cook', 'broil'],\n",
       " ['preheat',\n",
       "  'grease',\n",
       "  'microwave',\n",
       "  'mix',\n",
       "  'microwave',\n",
       "  'arrange',\n",
       "  'coat',\n",
       "  'turning',\n",
       "  'sprinkle'])"
      ]
     },
     "execution_count": 59,
     "metadata": {},
     "output_type": "execute_result"
    }
   ],
   "source": [
    "get_methods(getScrapedData(\"https://www.allrecipes.com/recipe/80827/easy-garlic-broiled-chicken\")['directions'])"
   ]
  },
  {
   "cell_type": "code",
   "execution_count": 85,
   "metadata": {},
   "outputs": [
    {
     "data": {
      "text/plain": [
       "1621"
      ]
     },
     "execution_count": 85,
     "metadata": {},
     "output_type": "execute_result"
    }
   ],
   "source": [
    "\n"
   ]
  },
  {
   "cell_type": "code",
   "execution_count": 90,
   "metadata": {},
   "outputs": [],
   "source": []
  },
  {
   "cell_type": "code",
   "execution_count": null,
   "metadata": {},
   "outputs": [],
   "source": []
  }
 ],
 "metadata": {
  "kernelspec": {
   "display_name": "Python 3",
   "language": "python",
   "name": "python3"
  },
  "language_info": {
   "codemirror_mode": {
    "name": "ipython",
    "version": 3
   },
   "file_extension": ".py",
   "mimetype": "text/x-python",
   "name": "python",
   "nbconvert_exporter": "python",
   "pygments_lexer": "ipython3",
   "version": "3.6.5"
  }
 },
 "nbformat": 4,
 "nbformat_minor": 2
}
